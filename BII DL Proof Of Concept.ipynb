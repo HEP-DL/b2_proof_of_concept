{
 "cells": [
  {
   "cell_type": "markdown",
   "metadata": {},
   "source": [
    "# Environment\n",
    "\n",
    "For this exercise, I'm running a virtualenv. Installing the pre-requisites should be accomplished using:\n",
    "\n",
    "~~~ bash\n",
    "pip install -r requirements.txt\n",
    "~~~\n",
    "\n",
    "From the root directory of this project.\n"
   ]
  },
  {
   "cell_type": "markdown",
   "metadata": {},
   "source": [
    "## The additional ROOT Dependency\n",
    "\n",
    "This is only to be used when reading from ROOT files. If the files are pre-converted to HDF5, then there's no need."
   ]
  },
  {
   "cell_type": "code",
   "execution_count": null,
   "metadata": {
    "collapsed": false
   },
   "outputs": [],
   "source": [
    "#import ROOT"
   ]
  },
  {
   "cell_type": "markdown",
   "metadata": {},
   "source": []
  },
  {
   "cell_type": "markdown",
   "metadata": {},
   "source": [
    "## Import block\n",
    "\n",
    "I was looking into recreating this in tensorflow. It looks like the layer types are a little more extensible in Keras. Since Keras uses Tensorflow as a backend by default, I'll use Keras for some exploration. Later, I can come back to tensorflow."
   ]
  },
  {
   "cell_type": "code",
   "execution_count": null,
   "metadata": {
    "collapsed": false
   },
   "outputs": [
    {
     "name": "stderr",
     "output_type": "stream",
     "text": [
      "Using TensorFlow backend.\n"
     ]
    }
   ],
   "source": [
    "import logging\n",
    "import h5py\n",
    "from keras.layers import Convolution2D, MaxPooling2D  # Layer Def\n",
    "from keras.models import Model\n",
    "from keras.layers import Input, Flatten, Dense\n",
    "from keras.utils.io_utils import HDF5Matrix\n",
    "import h5py\n",
    "import numpy as np\n",
    "from collections import defaultdict\n",
    "from keras import backend as K\n",
    "import matplotlib.pyplot as plt\n",
    "%matplotlib inline"
   ]
  },
  {
   "cell_type": "markdown",
   "metadata": {},
   "source": [
    "# Exploring the input data\n",
    "\n",
    "This should elucidate how data is being read out. I'm also going to use this to define which data to use as input and which data should be predicted.\n",
    "\n",
    "For now, I'm just going to open up the file and print out the contents."
   ]
  },
  {
   "cell_type": "code",
   "execution_count": null,
   "metadata": {
    "collapsed": true
   },
   "outputs": [],
   "source": [
    "data_file = h5py.File('chargedrec_mc7_phaseII_BGx1_KstZG.h5','r')"
   ]
  },
  {
   "cell_type": "code",
   "execution_count": null,
   "metadata": {
    "collapsed": false
   },
   "outputs": [
    {
     "data": {
      "text/plain": [
       "[u'BtoKstG', u'BtoRhoG']"
      ]
     },
     "execution_count": 4,
     "metadata": {},
     "output_type": "execute_result"
    }
   ],
   "source": [
    "[i for i in data_file]"
   ]
  },
  {
   "cell_type": "code",
   "execution_count": null,
   "metadata": {
    "collapsed": false
   },
   "outputs": [
    {
     "name": "stdout",
     "output_type": "stream",
     "text": [
      "<HDF5 dataset \"BtoRhoG\": shape (1107437, 478), type \"<f4\">\n"
     ]
    }
   ],
   "source": [
    "BtoKstG = data_file[u'BtoKstG']\n",
    "BtoKstG = data_file[u'BtoRhoG']\n",
    "\n",
    "print BtoKstG"
   ]
  },
  {
   "cell_type": "markdown",
   "metadata": {},
   "source": [
    "It looks like the input data has the correct shape. There were 92790 events in the original ROOT file. Due to the non-flat 4-vector momenta, I extended the fields to include 4 fields for each 4-vector. Thus the second index is a bit bigger than the number of fields in the trees in the original root file.\n",
    "\n",
    "As a matter of convenience, I store the names of the columns in the tensors as values in the attributes field corresponding to `index<>_name`, where `<>` denotes the column number."
   ]
  },
  {
   "cell_type": "code",
   "execution_count": null,
   "metadata": {
    "collapsed": false
   },
   "outputs": [
    {
     "name": "stdout",
     "output_type": "stream",
     "text": [
      "index0_name :  exp_no\n",
      "index1_name :  run_no\n",
      "index2_name :  evt_no\n",
      "index3_name :  nECLClusters\n",
      "index4_name :  nNeutralECLClusters\n",
      "index5_name :  nChargedECLClusters\n",
      "index6_name :  nGoodNeutralECLClusters\n",
      "index7_name :  neutralECLEnergy\n",
      "index8_name :  chargedECLEnergy\n",
      "index9_name :  goodNeutralECLEnergy\n",
      "index10_name :  nTracks\n",
      "index11_name :  nMCParticles\n",
      "index12_name :  nParticles\n",
      "index13_name :  B0_nROETracks\n",
      "index14_name :  B0_nROEECLClusters\n",
      "index15_name :  B0_nGoodROEClusters\n",
      "index16_name :  B0_nROEKLMClusters\n",
      "index17_name :  B0_deltae\n",
      "index18_name :  B0_mbc\n",
      "index19_name :  B0_ThrustB\n",
      "index20_name :  B0_ThrustO\n",
      "index21_name :  B0_CosTBTO\n",
      "index22_name :  B0_CosTBz\n",
      "index23_name :  B0_R2\n",
      "index24_name :  B0_cc1\n",
      "index25_name :  B0_cc2\n",
      "index26_name :  B0_cc3\n",
      "index27_name :  B0_cc4\n",
      "index28_name :  B0_cc5\n",
      "index29_name :  B0_cc6\n",
      "index30_name :  B0_cc7\n",
      "index31_name :  B0_cc8\n",
      "index32_name :  B0_cc9\n",
      "index33_name :  B0_mm2\n",
      "index34_name :  B0_et\n",
      "index35_name :  B0_hso00\n",
      "index36_name :  B0_hso01\n",
      "index37_name :  B0_hso02\n",
      "index38_name :  B0_hso03\n",
      "index39_name :  B0_hso04\n",
      "index40_name :  B0_hso10\n",
      "index41_name :  B0_hso12\n",
      "index42_name :  B0_hso14\n",
      "index43_name :  B0_hso20\n",
      "index44_name :  B0_hso22\n",
      "index45_name :  B0_hso24\n",
      "index46_name :  B0_hoo0\n",
      "index47_name :  B0_hoo1\n",
      "index48_name :  B0_hoo2\n",
      "index49_name :  B0_hoo3\n",
      "index50_name :  B0_hoo4\n",
      "index51_name :  B0_gamma_ThrustB\n",
      "index52_name :  B0_gamma_ThrustO\n",
      "index53_name :  B0_gamma_CosTBTO\n",
      "index54_name :  B0_gamma_CosTBz\n",
      "index55_name :  B0_gamma_R2\n",
      "index56_name :  B0_gamma_cc1\n",
      "index57_name :  B0_gamma_cc2\n",
      "index58_name :  B0_gamma_cc3\n",
      "index59_name :  B0_gamma_cc4\n",
      "index60_name :  B0_gamma_cc5\n",
      "index61_name :  B0_gamma_cc6\n",
      "index62_name :  B0_gamma_cc7\n",
      "index63_name :  B0_gamma_cc8\n",
      "index64_name :  B0_gamma_cc9\n",
      "index65_name :  B0_gamma_mm2\n",
      "index66_name :  B0_gamma_et\n",
      "index67_name :  B0_gamma_hso00\n",
      "index68_name :  B0_gamma_hso01\n",
      "index69_name :  B0_gamma_hso02\n",
      "index70_name :  B0_gamma_hso03\n",
      "index71_name :  B0_gamma_hso04\n",
      "index72_name :  B0_gamma_hso10\n",
      "index73_name :  B0_gamma_hso12\n",
      "index74_name :  B0_gamma_hso14\n",
      "index75_name :  B0_gamma_hso20\n",
      "index76_name :  B0_gamma_hso22\n",
      "index77_name :  B0_gamma_hso24\n",
      "index78_name :  B0_gamma_hoo0\n",
      "index79_name :  B0_gamma_hoo1\n",
      "index80_name :  B0_gamma_hoo2\n",
      "index81_name :  B0_gamma_hoo3\n",
      "index82_name :  B0_gamma_hoo4\n",
      "index83_name :  B0_P\n",
      "index84_name :  B0_P4[0]\n",
      "index85_name :  B0_P4[1]\n",
      "index86_name :  B0_P4[2]\n",
      "index87_name :  B0_P4[3]\n",
      "index88_name :  B0_rho0_P\n",
      "index89_name :  B0_rho0_P4[0]\n",
      "index90_name :  B0_rho0_P4[1]\n",
      "index91_name :  B0_rho0_P4[2]\n",
      "index92_name :  B0_rho0_P4[3]\n",
      "index93_name :  B0_rho0_pi0_P\n",
      "index94_name :  B0_rho0_pi0_P4[0]\n",
      "index95_name :  B0_rho0_pi0_P4[1]\n",
      "index96_name :  B0_rho0_pi0_P4[2]\n",
      "index97_name :  B0_rho0_pi0_P4[3]\n",
      "index98_name :  B0_rho0_pi1_P\n",
      "index99_name :  B0_rho0_pi1_P4[0]\n",
      "index100_name :  B0_rho0_pi1_P4[1]\n",
      "index101_name :  B0_rho0_pi1_P4[2]\n",
      "index102_name :  B0_rho0_pi1_P4[3]\n",
      "index103_name :  B0_gamma_P\n",
      "index104_name :  B0_gamma_P4[0]\n",
      "index105_name :  B0_gamma_P4[1]\n",
      "index106_name :  B0_gamma_P4[2]\n",
      "index107_name :  B0_gamma_P4[3]\n",
      "index108_name :  B0_ErrP4[0]\n",
      "index109_name :  B0_ErrP4[1]\n",
      "index110_name :  B0_ErrP4[2]\n",
      "index111_name :  B0_ErrP4[3]\n",
      "index112_name :  B0_rho0_ErrP4[0]\n",
      "index113_name :  B0_rho0_ErrP4[1]\n",
      "index114_name :  B0_rho0_ErrP4[2]\n",
      "index115_name :  B0_rho0_ErrP4[3]\n",
      "index116_name :  B0_rho0_pi0_ErrP4[0]\n",
      "index117_name :  B0_rho0_pi0_ErrP4[1]\n",
      "index118_name :  B0_rho0_pi0_ErrP4[2]\n",
      "index119_name :  B0_rho0_pi0_ErrP4[3]\n",
      "index120_name :  B0_rho0_pi1_ErrP4[0]\n",
      "index121_name :  B0_rho0_pi1_ErrP4[1]\n",
      "index122_name :  B0_rho0_pi1_ErrP4[2]\n",
      "index123_name :  B0_rho0_pi1_ErrP4[3]\n",
      "index124_name :  B0_gamma_ErrP4[0]\n",
      "index125_name :  B0_gamma_ErrP4[1]\n",
      "index126_name :  B0_gamma_ErrP4[2]\n",
      "index127_name :  B0_gamma_ErrP4[3]\n",
      "index128_name :  B0_rho0_pi0_d0\n",
      "index129_name :  B0_rho0_pi0_z0\n",
      "index130_name :  B0_rho0_pi0_TrPval\n",
      "index131_name :  B0_rho0_pi1_d0\n",
      "index132_name :  B0_rho0_pi1_z0\n",
      "index133_name :  B0_rho0_pi1_TrPval\n",
      "index134_name :  B0_rho0_pi0_nCDCHits\n",
      "index135_name :  B0_rho0_pi0_nSVDHits\n",
      "index136_name :  B0_rho0_pi0_nPXDHits\n",
      "index137_name :  B0_rho0_pi1_nCDCHits\n",
      "index138_name :  B0_rho0_pi1_nSVDHits\n",
      "index139_name :  B0_rho0_pi1_nPXDHits\n",
      "index140_name :  B0_rho0_pi0_PIDk\n",
      "index141_name :  B0_rho0_pi0_PIDpi\n",
      "index142_name :  B0_rho0_pi0_PIDe\n",
      "index143_name :  B0_rho0_pi0_PIDmu\n",
      "index144_name :  B0_rho0_pi0_PIDp\n",
      "index145_name :  B0_rho0_pi1_PIDk\n",
      "index146_name :  B0_rho0_pi1_PIDpi\n",
      "index147_name :  B0_rho0_pi1_PIDe\n",
      "index148_name :  B0_rho0_pi1_PIDmu\n",
      "index149_name :  B0_rho0_pi1_PIDp\n",
      "index150_name :  B0_gamma_PIDk\n",
      "index151_name :  B0_gamma_PIDpi\n",
      "index152_name :  B0_gamma_PIDe\n",
      "index153_name :  B0_gamma_PIDmu\n",
      "index154_name :  B0_gamma_PIDp\n",
      "index155_name :  B0_rho0_pi0_DLLPion\n",
      "index156_name :  B0_rho0_pi0_DLLKaon\n",
      "index157_name :  B0_rho0_pi0_DLLProt\n",
      "index158_name :  B0_rho0_pi0_DLLElec\n",
      "index159_name :  B0_rho0_pi0_DLLMuon\n",
      "index160_name :  B0_rho0_pi1_DLLPion\n",
      "index161_name :  B0_rho0_pi1_DLLKaon\n",
      "index162_name :  B0_rho0_pi1_DLLProt\n",
      "index163_name :  B0_rho0_pi1_DLLElec\n",
      "index164_name :  B0_rho0_pi1_DLLMuon\n",
      "index165_name :  B0_gamma_DLLPion\n",
      "index166_name :  B0_gamma_DLLKaon\n",
      "index167_name :  B0_gamma_DLLProt\n",
      "index168_name :  B0_gamma_DLLElec\n",
      "index169_name :  B0_gamma_DLLMuon\n",
      "index170_name :  B0_rho0_pi0__Kid\n",
      "index171_name :  B0_rho0_pi0__Kid_ARICH\n",
      "index172_name :  B0_rho0_pi0__Kid_TOP\n",
      "index173_name :  B0_rho0_pi0__Kid_dEdx\n",
      "index174_name :  B0_rho0_pi1__Kid\n",
      "index175_name :  B0_rho0_pi1__Kid_ARICH\n",
      "index176_name :  B0_rho0_pi1__Kid_TOP\n",
      "index177_name :  B0_rho0_pi1__Kid_dEdx\n",
      "index178_name :  B0_rho0_pi0__piid\n",
      "index179_name :  B0_rho0_pi0__piid_ARICH\n",
      "index180_name :  B0_rho0_pi0__piid_TOP\n",
      "index181_name :  B0_rho0_pi0__piid_dEdx\n",
      "index182_name :  B0_rho0_pi1__piid\n",
      "index183_name :  B0_rho0_pi1__piid_ARICH\n",
      "index184_name :  B0_rho0_pi1__piid_TOP\n",
      "index185_name :  B0_rho0_pi1__piid_dEdx\n",
      "index186_name :  B0_gamma_clusterReg\n",
      "index187_name :  B0_gamma_clusterE9E25\n",
      "index188_name :  B0_gamma_clusterNHits\n",
      "index189_name :  B0_gamma_clusterTrackMatch\n",
      "index190_name :  B0_gamma_clusterUncorrE\n",
      "index191_name :  B0_gamma_clusterHighE\n",
      "index192_name :  B0_gamma_clusterTiming\n",
      "index193_name :  B0_gamma_clusterTheta\n",
      "index194_name :  B0_gamma_clusterPhi\n",
      "index195_name :  B0_gamma_clusterR\n",
      "index196_name :  B0_X\n",
      "index197_name :  B0_ErrX\n",
      "index198_name :  B0_Y\n",
      "index199_name :  B0_ErrY\n",
      "index200_name :  B0_Z\n",
      "index201_name :  B0_ErrZ\n",
      "index202_name :  B0_Rho\n",
      "index203_name :  B0_VtxPvalue\n",
      "index204_name :  B0_VtxProd[0]\n",
      "index205_name :  B0_VtxProd[1]\n",
      "index206_name :  B0_VtxProd[2]\n",
      "index207_name :  B0_VtxProdCov[0]\n",
      "index208_name :  B0_VtxProdCov[1]\n",
      "index209_name :  B0_VtxProdCov[2]\n",
      "index210_name :  B0_VtxProdCov[3]\n",
      "index211_name :  B0_VtxProdCov[4]\n",
      "index212_name :  B0_VtxProdCov[5]\n",
      "index213_name :  B0_VtxProdCov[6]\n",
      "index214_name :  B0_VtxProdCov[7]\n",
      "index215_name :  B0_VtxProdCov[8]\n",
      "index216_name :  B0_rho0_X\n",
      "index217_name :  B0_rho0_ErrX\n",
      "index218_name :  B0_rho0_Y\n",
      "index219_name :  B0_rho0_ErrY\n",
      "index220_name :  B0_rho0_Z\n",
      "index221_name :  B0_rho0_ErrZ\n",
      "index222_name :  B0_rho0_Rho\n",
      "index223_name :  B0_rho0_VtxPvalue\n",
      "index224_name :  B0_rho0_VtxProd[0]\n",
      "index225_name :  B0_rho0_VtxProd[1]\n",
      "index226_name :  B0_rho0_VtxProd[2]\n",
      "index227_name :  B0_rho0_VtxProdCov[0]\n",
      "index228_name :  B0_rho0_VtxProdCov[1]\n",
      "index229_name :  B0_rho0_VtxProdCov[2]\n",
      "index230_name :  B0_rho0_VtxProdCov[3]\n",
      "index231_name :  B0_rho0_VtxProdCov[4]\n",
      "index232_name :  B0_rho0_VtxProdCov[5]\n",
      "index233_name :  B0_rho0_VtxProdCov[6]\n",
      "index234_name :  B0_rho0_VtxProdCov[7]\n",
      "index235_name :  B0_rho0_VtxProdCov[8]\n",
      "index236_name :  B0_rho0_pi0_X\n",
      "index237_name :  B0_rho0_pi0_ErrX\n",
      "index238_name :  B0_rho0_pi0_Y\n",
      "index239_name :  B0_rho0_pi0_ErrY\n",
      "index240_name :  B0_rho0_pi0_Z\n",
      "index241_name :  B0_rho0_pi0_ErrZ\n",
      "index242_name :  B0_rho0_pi0_Rho\n",
      "index243_name :  B0_rho0_pi0_VtxPvalue\n",
      "index244_name :  B0_rho0_pi0_VtxProd[0]\n",
      "index245_name :  B0_rho0_pi0_VtxProd[1]\n",
      "index246_name :  B0_rho0_pi0_VtxProd[2]\n",
      "index247_name :  B0_rho0_pi0_VtxProdCov[0]\n",
      "index248_name :  B0_rho0_pi0_VtxProdCov[1]\n",
      "index249_name :  B0_rho0_pi0_VtxProdCov[2]\n",
      "index250_name :  B0_rho0_pi0_VtxProdCov[3]\n",
      "index251_name :  B0_rho0_pi0_VtxProdCov[4]\n",
      "index252_name :  B0_rho0_pi0_VtxProdCov[5]\n",
      "index253_name :  B0_rho0_pi0_VtxProdCov[6]\n",
      "index254_name :  B0_rho0_pi0_VtxProdCov[7]\n",
      "index255_name :  B0_rho0_pi0_VtxProdCov[8]\n",
      "index256_name :  B0_rho0_pi1_X\n",
      "index257_name :  B0_rho0_pi1_ErrX\n",
      "index258_name :  B0_rho0_pi1_Y\n",
      "index259_name :  B0_rho0_pi1_ErrY\n",
      "index260_name :  B0_rho0_pi1_Z\n",
      "index261_name :  B0_rho0_pi1_ErrZ\n",
      "index262_name :  B0_rho0_pi1_Rho\n",
      "index263_name :  B0_rho0_pi1_VtxPvalue\n",
      "index264_name :  B0_rho0_pi1_VtxProd[0]\n",
      "index265_name :  B0_rho0_pi1_VtxProd[1]\n",
      "index266_name :  B0_rho0_pi1_VtxProd[2]\n",
      "index267_name :  B0_rho0_pi1_VtxProdCov[0]\n",
      "index268_name :  B0_rho0_pi1_VtxProdCov[1]\n",
      "index269_name :  B0_rho0_pi1_VtxProdCov[2]\n",
      "index270_name :  B0_rho0_pi1_VtxProdCov[3]\n",
      "index271_name :  B0_rho0_pi1_VtxProdCov[4]\n",
      "index272_name :  B0_rho0_pi1_VtxProdCov[5]\n",
      "index273_name :  B0_rho0_pi1_VtxProdCov[6]\n",
      "index274_name :  B0_rho0_pi1_VtxProdCov[7]\n",
      "index275_name :  B0_rho0_pi1_VtxProdCov[8]\n",
      "index276_name :  B0_gamma_X\n",
      "index277_name :  B0_gamma_ErrX\n",
      "index278_name :  B0_gamma_Y\n",
      "index279_name :  B0_gamma_ErrY\n",
      "index280_name :  B0_gamma_Z\n",
      "index281_name :  B0_gamma_ErrZ\n",
      "index282_name :  B0_gamma_Rho\n",
      "index283_name :  B0_gamma_VtxPvalue\n",
      "index284_name :  B0_gamma_VtxProd[0]\n",
      "index285_name :  B0_gamma_VtxProd[1]\n",
      "index286_name :  B0_gamma_VtxProd[2]\n",
      "index287_name :  B0_gamma_VtxProdCov[0]\n",
      "index288_name :  B0_gamma_VtxProdCov[1]\n",
      "index289_name :  B0_gamma_VtxProdCov[2]\n",
      "index290_name :  B0_gamma_VtxProdCov[3]\n",
      "index291_name :  B0_gamma_VtxProdCov[4]\n",
      "index292_name :  B0_gamma_VtxProdCov[5]\n",
      "index293_name :  B0_gamma_VtxProdCov[6]\n",
      "index294_name :  B0_gamma_VtxProdCov[7]\n",
      "index295_name :  B0_gamma_VtxProdCov[8]\n",
      "index296_name :  B0_M\n",
      "index297_name :  B0_ErrM\n",
      "index298_name :  B0_SigM\n",
      "index299_name :  B0_rho0_M\n",
      "index300_name :  B0_rho0_ErrM\n",
      "index301_name :  B0_rho0_SigM\n",
      "index302_name :  B0_rho0_pi0_M\n",
      "index303_name :  B0_rho0_pi0_ErrM\n",
      "index304_name :  B0_rho0_pi0_SigM\n",
      "index305_name :  B0_rho0_pi1_M\n",
      "index306_name :  B0_rho0_pi1_ErrM\n",
      "index307_name :  B0_rho0_pi1_SigM\n",
      "index308_name :  B0_gamma_M\n",
      "index309_name :  B0_gamma_ErrM\n",
      "index310_name :  B0_gamma_SigM\n",
      "index311_name :  B0_Pcms\n",
      "index312_name :  B0_P4cms[0]\n",
      "index313_name :  B0_P4cms[1]\n",
      "index314_name :  B0_P4cms[2]\n",
      "index315_name :  B0_P4cms[3]\n",
      "index316_name :  B0_rho0_Pcms\n",
      "index317_name :  B0_rho0_P4cms[0]\n",
      "index318_name :  B0_rho0_P4cms[1]\n",
      "index319_name :  B0_rho0_P4cms[2]\n",
      "index320_name :  B0_rho0_P4cms[3]\n",
      "index321_name :  B0_rho0_pi0_Pcms\n",
      "index322_name :  B0_rho0_pi0_P4cms[0]\n",
      "index323_name :  B0_rho0_pi0_P4cms[1]\n",
      "index324_name :  B0_rho0_pi0_P4cms[2]\n",
      "index325_name :  B0_rho0_pi0_P4cms[3]\n",
      "index326_name :  B0_rho0_pi1_Pcms\n",
      "index327_name :  B0_rho0_pi1_P4cms[0]\n",
      "index328_name :  B0_rho0_pi1_P4cms[1]\n",
      "index329_name :  B0_rho0_pi1_P4cms[2]\n",
      "index330_name :  B0_rho0_pi1_P4cms[3]\n",
      "index331_name :  B0_gamma_Pcms\n",
      "index332_name :  B0_gamma_P4cms[0]\n",
      "index333_name :  B0_gamma_P4cms[1]\n",
      "index334_name :  B0_gamma_P4cms[2]\n",
      "index335_name :  B0_gamma_P4cms[3]\n",
      "index336_name :  B0_Pparent\n",
      "index337_name :  B0_P4parent[0]\n",
      "index338_name :  B0_P4parent[1]\n",
      "index339_name :  B0_P4parent[2]\n",
      "index340_name :  B0_P4parent[3]\n",
      "index341_name :  B0_rho0_Pparent\n",
      "index342_name :  B0_rho0_P4parent[0]\n",
      "index343_name :  B0_rho0_P4parent[1]\n",
      "index344_name :  B0_rho0_P4parent[2]\n",
      "index345_name :  B0_rho0_P4parent[3]\n",
      "index346_name :  B0_rho0_pi0_Pparent\n",
      "index347_name :  B0_rho0_pi0_P4parent[0]\n",
      "index348_name :  B0_rho0_pi0_P4parent[1]\n",
      "index349_name :  B0_rho0_pi0_P4parent[2]\n",
      "index350_name :  B0_rho0_pi0_P4parent[3]\n",
      "index351_name :  B0_rho0_pi1_Pparent\n",
      "index352_name :  B0_rho0_pi1_P4parent[0]\n",
      "index353_name :  B0_rho0_pi1_P4parent[1]\n",
      "index354_name :  B0_rho0_pi1_P4parent[2]\n",
      "index355_name :  B0_rho0_pi1_P4parent[3]\n",
      "index356_name :  B0_gamma_Pparent\n",
      "index357_name :  B0_gamma_P4parent[0]\n",
      "index358_name :  B0_gamma_P4parent[1]\n",
      "index359_name :  B0_gamma_P4parent[2]\n",
      "index360_name :  B0_gamma_P4parent[3]\n",
      "index361_name :  B0_mcPDG\n",
      "index362_name :  B0_mcErrors\n",
      "index363_name :  B0_rho0_mcPDG\n",
      "index364_name :  B0_rho0_mcErrors\n",
      "index365_name :  B0_rho0_pi0_mcPDG\n",
      "index366_name :  B0_rho0_pi0_mcErrors\n",
      "index367_name :  B0_rho0_pi1_mcPDG\n",
      "index368_name :  B0_rho0_pi1_mcErrors\n",
      "index369_name :  B0_gamma_mcPDG\n",
      "index370_name :  B0_gamma_mcErrors\n",
      "index371_name :  B0_TruthX\n",
      "index372_name :  B0_TruthY\n",
      "index373_name :  B0_TruthZ\n",
      "index374_name :  B0_TruthRho\n",
      "index375_name :  B0_TruthVtxProd[0]\n",
      "index376_name :  B0_TruthVtxProd[1]\n",
      "index377_name :  B0_TruthVtxProd[2]\n",
      "index378_name :  B0_rho0_TruthX\n",
      "index379_name :  B0_rho0_TruthY\n",
      "index380_name :  B0_rho0_TruthZ\n",
      "index381_name :  B0_rho0_TruthRho\n",
      "index382_name :  B0_rho0_TruthVtxProd[0]\n",
      "index383_name :  B0_rho0_TruthVtxProd[1]\n",
      "index384_name :  B0_rho0_TruthVtxProd[2]\n",
      "index385_name :  B0_rho0_pi0_TruthX\n",
      "index386_name :  B0_rho0_pi0_TruthY\n",
      "index387_name :  B0_rho0_pi0_TruthZ\n",
      "index388_name :  B0_rho0_pi0_TruthRho\n",
      "index389_name :  B0_rho0_pi0_TruthVtxProd[0]\n",
      "index390_name :  B0_rho0_pi0_TruthVtxProd[1]\n",
      "index391_name :  B0_rho0_pi0_TruthVtxProd[2]\n",
      "index392_name :  B0_rho0_pi1_TruthX\n",
      "index393_name :  B0_rho0_pi1_TruthY\n",
      "index394_name :  B0_rho0_pi1_TruthZ\n",
      "index395_name :  B0_rho0_pi1_TruthRho\n",
      "index396_name :  B0_rho0_pi1_TruthVtxProd[0]\n",
      "index397_name :  B0_rho0_pi1_TruthVtxProd[1]\n",
      "index398_name :  B0_rho0_pi1_TruthVtxProd[2]\n",
      "index399_name :  B0_gamma_TruthX\n",
      "index400_name :  B0_gamma_TruthY\n",
      "index401_name :  B0_gamma_TruthZ\n",
      "index402_name :  B0_gamma_TruthRho\n",
      "index403_name :  B0_gamma_TruthVtxProd[0]\n",
      "index404_name :  B0_gamma_TruthVtxProd[1]\n",
      "index405_name :  B0_gamma_TruthVtxProd[2]\n",
      "index406_name :  B0_TruthP\n",
      "index407_name :  B0_TruthP4[0]\n",
      "index408_name :  B0_TruthP4[1]\n",
      "index409_name :  B0_TruthP4[2]\n",
      "index410_name :  B0_TruthP4[3]\n",
      "index411_name :  B0_TruthM\n",
      "index412_name :  B0_rho0_TruthP\n",
      "index413_name :  B0_rho0_TruthP4[0]\n",
      "index414_name :  B0_rho0_TruthP4[1]\n",
      "index415_name :  B0_rho0_TruthP4[2]\n",
      "index416_name :  B0_rho0_TruthP4[3]\n",
      "index417_name :  B0_rho0_TruthM\n",
      "index418_name :  B0_rho0_pi0_TruthP\n",
      "index419_name :  B0_rho0_pi0_TruthP4[0]\n",
      "index420_name :  B0_rho0_pi0_TruthP4[1]\n",
      "index421_name :  B0_rho0_pi0_TruthP4[2]\n",
      "index422_name :  B0_rho0_pi0_TruthP4[3]\n",
      "index423_name :  B0_rho0_pi0_TruthM\n",
      "index424_name :  B0_rho0_pi1_TruthP\n",
      "index425_name :  B0_rho0_pi1_TruthP4[0]\n",
      "index426_name :  B0_rho0_pi1_TruthP4[1]\n",
      "index427_name :  B0_rho0_pi1_TruthP4[2]\n",
      "index428_name :  B0_rho0_pi1_TruthP4[3]\n",
      "index429_name :  B0_rho0_pi1_TruthM\n",
      "index430_name :  B0_gamma_TruthP\n",
      "index431_name :  B0_gamma_TruthP4[0]\n",
      "index432_name :  B0_gamma_TruthP4[1]\n",
      "index433_name :  B0_gamma_TruthP4[2]\n",
      "index434_name :  B0_gamma_TruthP4[3]\n",
      "index435_name :  B0_gamma_TruthM\n",
      "index436_name :  B0_rho0_Reconstructible\n",
      "index437_name :  B0_rho0_SeenInPXD\n",
      "index438_name :  B0_rho0_SeenInSVD\n",
      "index439_name :  B0_rho0_SeenInCDC\n",
      "index440_name :  B0_rho0_SeenInTOP\n",
      "index441_name :  B0_rho0_SeenInARICH\n",
      "index442_name :  B0_rho0_SeenInECL\n",
      "index443_name :  B0_rho0_SeenInKLM\n",
      "index444_name :  B0_rho0_pi0_Reconstructible\n",
      "index445_name :  B0_rho0_pi0_SeenInPXD\n",
      "index446_name :  B0_rho0_pi0_SeenInSVD\n",
      "index447_name :  B0_rho0_pi0_SeenInCDC\n",
      "index448_name :  B0_rho0_pi0_SeenInTOP\n",
      "index449_name :  B0_rho0_pi0_SeenInARICH\n",
      "index450_name :  B0_rho0_pi0_SeenInECL\n",
      "index451_name :  B0_rho0_pi0_SeenInKLM\n",
      "index452_name :  B0_rho0_pi1_Reconstructible\n",
      "index453_name :  B0_rho0_pi1_SeenInPXD\n",
      "index454_name :  B0_rho0_pi1_SeenInSVD\n",
      "index455_name :  B0_rho0_pi1_SeenInCDC\n",
      "index456_name :  B0_rho0_pi1_SeenInTOP\n",
      "index457_name :  B0_rho0_pi1_SeenInARICH\n",
      "index458_name :  B0_rho0_pi1_SeenInECL\n",
      "index459_name :  B0_rho0_pi1_SeenInKLM\n",
      "index460_name :  B0_gamma_Reconstructible\n",
      "index461_name :  B0_gamma_SeenInPXD\n",
      "index462_name :  B0_gamma_SeenInSVD\n",
      "index463_name :  B0_gamma_SeenInCDC\n",
      "index464_name :  B0_gamma_SeenInTOP\n",
      "index465_name :  B0_gamma_SeenInARICH\n",
      "index466_name :  B0_gamma_SeenInECL\n",
      "index467_name :  B0_gamma_SeenInKLM\n",
      "index468_name :  B0__isSignal\n",
      "index469_name :  B0__isExtendedSignal\n",
      "index470_name :  B0__isPrimarySignal\n",
      "index471_name :  B0__genMotherPDG\n",
      "index472_name :  B0_rho0__genMotherPDG\n",
      "index473_name :  B0_rho0_pi0__genMotherPDG\n",
      "index474_name :  B0_rho0_pi1__genMotherPDG\n",
      "index475_name :  B0_gamma__genMotherPDG\n",
      "index476_name :  nCands\n",
      "index477_name :  iCand\n"
     ]
    }
   ],
   "source": [
    "for key in BtoKstG.attrs.keys():\n",
    "    print key,\": \", BtoKstG.attrs[key]"
   ]
  },
  {
   "cell_type": "markdown",
   "metadata": {},
   "source": [
    "## Input and prediction data description\n",
    "\n",
    "The idea here is that I'm not sure how I'm going to define which fields are \"measured\" data, be they mc or real data, and which fields are \"truths\" or \"labels\". So, what I'd like to do is, for now, define a rank-2 list in python with the corresponding keys to each of the fields. In a couple steps, when I define the data generator, I can use these to stitch together the input matrix for the network.\n",
    "\n",
    "Obviously, this can be done better by preparing the data in file more sensibly, but this is proof of concept, so I'm less worried about efficiency or elegence."
   ]
  },
  {
   "cell_type": "code",
   "execution_count": null,
   "metadata": {
    "collapsed": true
   },
   "outputs": [],
   "source": [
    "input_data_desc=[\n",
    "    ['B0_R2','B0_CosTBTO'],\n",
    "    ['B0_KST0_pi__piid','B0_KST0_K__piid'],\n",
    "    ['B0_KST0_K_P','B0_KST0_pi_P'],\n",
    "    ['nTracks','B0_gamma_clusterE9E25'],\n",
    "    ['nGoodNeutralECLClusters','B0_gamma_CosTBTO'],\n",
    "    ['B0_KST0_K_d0','B0_KST0_K_z0'],\n",
    "    ['B0_KST0_pi_d0','B0_KST0_pi_z0'],\n",
    "]\n",
    "\n",
    "output_data_desc=['B0__isSignal']"
   ]
  },
  {
   "cell_type": "code",
   "execution_count": null,
   "metadata": {
    "collapsed": false
   },
   "outputs": [],
   "source": [
    "class B2DataGenerator(object):\n",
    "    \"\"\"\n",
    "        TODO: This can and should be threaded out.\n",
    "    \"\"\"\n",
    "    batch_size = 10\n",
    "    logger = logging.getLogger(\"b2.data\")\n",
    "    def __init__(self, datapath, dataset, input_data_desc, output_data_desc):\n",
    "        self.logger.info(\"Assembling DataSet\")\n",
    "        self._file = h5py.File(datapath,'r')\n",
    "        self._dataset = self._file[dataset]\n",
    "        \n",
    "        self._data_desc=input_data_desc\n",
    "        self.output_data_desc = output_data_desc\n",
    "        \n",
    "        #book keeping\n",
    "        self.current_index=0\n",
    "        \n",
    "    def output(self):\n",
    "        \"\"\"\n",
    "            Returns an input layer with the appropriate shape to\n",
    "            match the data that we're using.\n",
    "            \n",
    "            Note, that this assumes that shape of the input tensor is hyper-rectangular.\n",
    "            That is to say, NO STAGGERED MATRICES. Yet. I still have to figure that part out.\n",
    "        \"\"\"\n",
    "        return Input(shape=(len(self._data_desc),len(self._data_desc[0]),1))\n",
    "\n",
    "    def __len__(self):\n",
    "        \"\"\"\n",
    "        This assumes all of the data is stored in rows\n",
    "        \"\"\"\n",
    "        return self._dataset.shape[0]\n",
    "\n",
    "    def __iter__(self):\n",
    "        return self\n",
    "\n",
    "    def __next__(self):\n",
    "        return self.next()\n",
    "\n",
    "    def next(self):\n",
    "        \"\"\"\n",
    "            This is still a largely inefficient way of doing this.\n",
    "            TODO: fix that\n",
    "        \"\"\"\n",
    "        batch = self._dataset[self.current_index:self.current_index+self.batch_size]\n",
    "        indices=[]\n",
    "        prediction_index = -1\n",
    "        for row in self._data_desc:\n",
    "            for col in row:\n",
    "                for key in self._dataset.attrs:\n",
    "                    if self._dataset.attrs[key] == col:\n",
    "                        indices.append(int(key.split('x')[1].split('_')[0]))\n",
    "                    elif self._dataset.attrs[key] == self.output_data_desc[0]:\n",
    "                        prediction_index = int(key.split('x')[1].split('_')[0])\n",
    "        data = batch[:, tuple(indices)]\n",
    "        data = data.reshape( (self.batch_size,len(self._data_desc),len(self._data_desc[0]),1) )\n",
    "\n",
    "        prediction = batch[:, prediction_index]\n",
    "        self.current_index+=self.batch_size\n",
    "        return (data, prediction)"
   ]
  },
  {
   "cell_type": "code",
   "execution_count": null,
   "metadata": {
    "collapsed": false
   },
   "outputs": [],
   "source": [
    "BtoKstG_datagen = B2DataGenerator('chargedrec_mc7_phaseII_BGx1_mixed.h5','BtoKstG',input_data_desc, output_data_desc)"
   ]
  },
  {
   "cell_type": "markdown",
   "metadata": {},
   "source": [
    "# Model Definition\n",
    "\n",
    "For this excercise, I'm using vgg since it's a fairly lightweight network. I also had this prepped from an earlier study, so extending it to work for this data should be easy"
   ]
  },
  {
   "cell_type": "code",
   "execution_count": null,
   "metadata": {
    "collapsed": false
   },
   "outputs": [],
   "source": [
    "class VGG16(Model):\n",
    "    logger = logging.getLogger('b2.vgg16')\n",
    "    def __init__(self, input_data,loss='binary_crossentropy'):\n",
    "        self._input = input_data\n",
    "        self.logger.info(\"Assembling Model\")\n",
    "\n",
    "        self.logger.debug(\"Input Shape: {}\".format(self._input))\n",
    "\n",
    "        # Block 1\n",
    "        layer = Convolution2D(64, 2, 2, activation='relu', border_mode='same', \n",
    "                              name='block1_conv1')(self._input)\n",
    "        layer = Convolution2D(64, 2, 2, activation='relu', border_mode='same', \n",
    "                              name='block1_conv2')(layer)\n",
    "        layer = MaxPooling2D((2, 1), strides=(1, 1), name='block1_pool')(layer)\n",
    "\n",
    "        # Block 2\n",
    "        layer = Convolution2D(128, 3, 2, activation='relu', border_mode='same', \n",
    "                              name='block2_conv1')(layer)\n",
    "        layer = Convolution2D(128, 3, 2, activation='relu', border_mode='same', \n",
    "                              name='block2_conv2')(layer)\n",
    "        layer = MaxPooling2D((2, 1), strides=(1, 1), name='block2_pool')(layer)\n",
    "\n",
    "\n",
    "        # Classification block\n",
    "        layer = Flatten(name='flatten')(layer)\n",
    "        layer = Dense(4096, activation='relu', name='fc1')(layer)\n",
    "        layer = Dense(4096, activation='relu', name='fc2')(layer)\n",
    "        layer = Dense(1, activation='softmax', name='predictions')(layer)\n",
    "\n",
    "        super(VGG16, self).__init__(self._input, layer)\n",
    "        self.logger.info(\"Compiling Model\")\n",
    "        self.compile(loss=loss, optimizer='sgd')"
   ]
  },
  {
   "cell_type": "markdown",
   "metadata": {},
   "source": [
    "## Modifying the loss function\n",
    "\n",
    "Previously, we were using binary crossentropy as the loss function. Now, we'd like to motivate loss by physics.\n",
    "\n",
    "Below is an example of a loss function implementing "
   ]
  },
  {
   "cell_type": "code",
   "execution_count": null,
   "metadata": {
    "collapsed": true
   },
   "outputs": [],
   "source": [
    "_EPSILON = K.epsilon()\n",
    "\n",
    "def loss_tensor(y_true, y_pred):\n",
    "    y_pred = K.clip(y_pred, _EPSILON, 1.0-_EPSILON)\n",
    "    out = -(y_true * K.log(y_pred) + (1.0 - y_true) * K.log(1.0 - y_pred))\n",
    "    return K.mean(out, axis=-1)\n",
    "\n",
    "def loss_np(y_true, y_pred):\n",
    "    y_pred = np.clip(y_pred, _EPSILON, 1.0-_EPSILON)\n",
    "    out = -(y_true * np.log(y_pred) + (1.0 - y_true) * np.log(1.0 - y_pred))\n",
    "    return np.mean(out, axis=-1)"
   ]
  },
  {
   "cell_type": "markdown",
   "metadata": {},
   "source": [
    "# Training!"
   ]
  },
  {
   "cell_type": "code",
   "execution_count": null,
   "metadata": {
    "collapsed": false
   },
   "outputs": [
    {
     "name": "stderr",
     "output_type": "stream",
     "text": [
      "INFO:root:Starting...\n",
      "INFO:b2.vgg16:Assembling Model\n",
      "DEBUG:b2.vgg16:Input Shape: Tensor(\"input_1:0\", shape=(?, 7, 2, 1), dtype=float32)\n",
      "INFO:b2.vgg16:Compiling Model\n"
     ]
    },
    {
     "name": "stdout",
     "output_type": "stream",
     "text": [
      "Epoch 1/1000\n",
      "1000/1000 [==============================] - 99s - loss: 15.9264      \b\b\b\b\b\b\b\b\b\b\b\b\b\b\b\b\b\b\b\b\b\b\b\b\b\b\b\b\b\b\b\b\b\b\b\b\b\b\b\b\b\b\b\b\b\b\b\b\b\b\b\b\b\b\b\b\b\b\b\b\b\b\b\b\b\b\b\b\b\b\b\b\b\b\b\b\b\b\b\b\b\b\b\b\b\b\b\b\b\b\b\b\b\b\b\b\b\b\b\b\b\b\b\b\b\b\b\b\b\b\b\b\b\b\b\b\b\b\b\b\b\b\b\b\b\b\b\b\b\b\b\b\b\b\b\b\b\b\b\b\b\b\b\b\b\b\b\b\b\b\b\b\b\b\b\b\b\b\b\b\b\b\b\b\b\b\b\b\b\b\b\b\b\b\b\b\b\b\b\b\b\b\b\b\b\b\b\b\b\b\b\b\b\b\b\b\b\b\b\b\b\b\b\b\b\b\b\b\b\b\b\b\b\b\b\b\b\b\b\b\b\b\b\b\b\b\b\b\b\b\b\b\b\b\b\b\b\b\b\b\b\b\b\b\b\b\b\b\b\b\b\b\b\b\b\b\b\b\b\b\b\b\b\b\b\b\b\b\b\b\b\b\b\b\b\b\b\b\b\b\b\b\b\b\b\b\b\b\b\b\b\b\b\b\b\b\b\b\b\b\b\b\b\b\b\b\b\b\b\b\b\b\b\b\b\b\b\b\b\b\b\b\b\b\b\b\b\b\b\b\b\b\b\b\b\b\b\b\b\b\b\b\b\b\b\b\b\b\b\b\b\b\b\b\b\b\b\b\b\b\b\b\b\b\b\b\b\b\b\b\b\b\b\b\b\b\b\b\b\b\b\b\b\b\b\b\b\b\b\b\b\b\b\b\b\b\b\b\b\b\b\b\b\b\b\b\b\b\b\b\b\b\b\b\b\b\b\b\b\b\b\b\b\b\b\b\b\b\b\b\b\b\b\b\b\b\b\b\b\b\b\b\b\b\b\b\b\b\b\b\b\b\b\b\b\b\b\b\b\b\b\b\b\b\b\b\b\b\b\b\b\b\b\b\b\b\b\b\b\b\b\b\b\b\b\b\b\b\b\b\b\b\b\b\b\b\b\b\b\b\b\b\b\b\b\b\b\b\b\b\b\b\b\b\b\b\b\b\b\b\b\b\b\b\b\b\b\b\b\b\b\b\b\b\b\b\b\b\b\b\b\b\b\b\b\b\b\b\b\b\b\b\b\b\b\b\b\b\b\b\b\b\b\b\b\b\b\b\b\b\b\b\b\b\b\b\b\b\b\b\b\b\b\b\b\b\b\b\b\b\b\b\b\b\b\b\b\b\b\b\b\b\b\b\b\b\b\b\b\b\b\b\b\b\b\b\b\b\b\b\b\b\b\b\b\b\b\b\b\b\b\b\b\b\b\b\b\b\b\b\b\b\b\b\b\b\b\b\b\b\b\b\b\b\b\b\b\b\b\b\b\b\b\b\b\b\b\b\b\b\b\b\b\b\b\b\b\b\b\b\b\b\b\b\b\b\b\b\b\b\b\b\b\b\b\b\b\b\b\b\b\b\b\b\b\b\b\b\b\b\b\b\b\b\b\b\b\b\b\b\b\b\b\b\b\b\b\b\b\b\b\b\b\b\b\b\b\b\b\b\b\b\b\b\b\b\b\b\b\b\b\b\b\b\b\b\b\b\b\b\b\b\b\b\b\b\b\b\b\b\b\b\b\b\b\b\b\b\b\b\b\b\b\b\b\b\b\b\b\b\b\b\b\b\b\b\b\b\b\b\b\b\b\b\b\b\b\b\b\b\b\b\b\b\b\b\b\b\b\b\b\b\b\b\b\b\b\b\b\b\b\b\b\b\b\b\b\b\b\b\b\b\b\b\b\b\b\b\b\b\b\b\b\b\b\b\b\b\b\b\b\b\b\b\b\b\b\b\b\b\b\b\b\b\b\b\b\b\b\b\b\b\b\b\b\b\b\b\b\b\b\b\b\b\b\b\b\b\b\b\b\b\b\b\b\b\b\b\b\b\b\b\b\b\b\b\b\b\b\b\b\b\b\b\b\b\b\b\b\b\b\b\b\b\b\b\b\b\b\b\b\b\b\b\b\b\b\b\b\b\b\b\b\b\b\b\b\b\b\b\b\b\b\b\b\b\b\b\b\b\b\b\b\b\b\b\b\b\b\b\b\b\b\b\b\b\b\b\b\b\b\b\b\b\b\b\b\b\b\b\b\b\b\b\b\b\b\b\b\b\b\b\b\b\b\b\b\b\b\b\b\b\b\b\b\b\b\b\b\b\b\b\b\b\b\b\b\b\b\b\b\b\b\b\b\b\b\b\b\b\b\b\b\b\b\b\b\b\b\b\b\b\b\b\b\b\b\b\b\b\b\b\b\b\b\b\b\b\b\b\b\b\b\b\b\b\b\b\b\b\b\b\b\b\b\b\b\b\b\b\b\b\b\b\b\b\b\b\b\b\b\b\b\b\b\b\b\b\b\b\b\b\b\b\b\b\b\b\b\b\b\b\b\b\b\b\b\b\b\b\b\b\b\b\b\b\b\b\b\b\b\b\b\b\b\b\b\b\b\b\b\b\b\b\b\b\b\b\b\b\b\b\b\b\b\b\b\b\b\b\b\b\b\b\b\b\b\b\b\b\b\b\b\b\b\b\b\b\b\b\b\b\b\b\b\b\b\b\b\b\b\b\b\b\b\b\b\b\b\b\b\b\b\b\b\b\b\b\b\b\b\b\b\b\b\b\b\b\b\b\b\b\b\b\b\b\b\b\b\b\b\b\b\b\b\b\b\b\b\b\b\b\b\b\b\b\b\b\b\b\b\b\b\b\b\b\b\b\b\b\b\b\b\b\b\b\b\b\b\b\b\b\b\b\b\b\b\b\b\b\b\b\b\b\b\b\b\b\b\b\b\b\b\b\b\b\b\b\b\b\b\b\b\b\b\b\b\b\b\b\b\b\b\b\b\b\b\b\b\b\b\b\b\b\b\b\b\b\b\b\b\b\b\b\b\b\b\b\b\b\b\b\b\b\b\b\b\b\b\b\b\b\b\b\b\b\b\b\b\b\b\b\b\b\b\b\b\b\b\b\b\b\b\b\b\b\b\b\b\b\b\b\b\b\b\b\b\b\b\b\b\b\b\b\b\b\b\b\b\b\b\b\b\b\b\b\b\b\b\b\b\b\b\b\b\b\b\b\b\b\b\b\b\b\b\b\b\b\b\b\b\b\b\b\b\b\b\b\b\b\b\b\b\b\b\b\b\b\b\b\b\b\b\b\b\b\b\b\b\b\b\b\b\b\b\b\b\b\b\b\b\b\b\b\b\b\b\b\b\b\b\b\b\b\b\b\b\b\b\b\b\b\b\b\b\b\b\b\b\b\b\b\b\b\b\b\b\b\b\b\b\b\b\b\b\b\b\b\b\b\b\b\b\b\b\b\b\b\b\b\b\b\b\b\b\b\b\b\b\b\b\b\b\b\b\b\b\b\b\b\b\b\b\b\b\b\b\b\b\b\b\b\b\b\b\b\b\b\b\b\b\b\b\b\b\b\b\b\b\b\b\b\b\b\b\b\b\b\b\b\b\b\b\b\b\b\b\b\b\b\b\b\b\b\b\b\b\b\b\b\b\b\b\b\b\b\b\b\b\b\b\b\b\b\b\b\b\b\b\b\b\b\b\b\b\b\b\b\b\b\b\b\b\b\b\b\b\b\b\b\b\b\b\b\b\b\b\b\b\b\b\b\b\b\b\b\b\b\b\b\b\b\b\b\b\b\b\b\b\b\b\b\b\b\b\b\b\b\b\b\b\b\b\b\b\b\b\b\b\b\b\b\b\b\b\b\b\b\b\b\b\b\b\b\b\b\b\b\b\b\b\b\b\b\b\b\b\b\b\b\b\b\b\b\b\b\b\b\b\b\b\b\b\b\b\b\b\b\b\b\b\b\b\b\b\b\b\b\b\b\b\b\b\b\b\b\b\b\b\b\b\b\b\b\b\b\b\b\b\b\b\b\b\b\b\b\b\b\b\b\b\b\b\b\b\b\b\b\b\b\b\b\b\b\b\b\b\b\b\b\b\b\b\b\b\b\b\b\b\b\b\b\b\b\b\b\b\b\b\b\b\b\b\b\b\b\b\b\b\b\b\b\b\b\b\b\b\b\b\b\b\b\b\b\b\b\b\b\b\b\b\b\b\b\b\b\b\b\b\b\b\b\b\b\b\b\b\b\b\b\b\b\b\b\b\b\b\b\b\b\b\b\b\b\b\b\b\b\b\b\b\b\b\b\b\b\b\b\b\b\b\b\b\b\b\b\b\b\b\b\b\b\b\b\b\b\b\b\b\b\b\b\b\b\b\b\b\b\b\b\b\b\b\b\b\b\b\b\b\b\b\b\b\b\b\b\b\b\b\b\b\b\b\b\b\b\b\b\b\b\b\b\b\b\b\b\b\b\b\b\b\b\b\b\b\b\b\b\b\b\b\b\b\b\b\b\b\b\b\b\b\b\b\b\b\b\b\b\b\b\b\b\b\b\b\b\b\b\b\b\b\b\b\b\b\b\b\b\b\b\b\b\b\b\b\b\b\b\b\b\b\b\b\b\b\b\b\b\b\b\b\b\b\b\b\b\b\b\b\b\b\b\b\b\b\b\b\b\b\b\b\b\b\b\b\b\b\b\b\b\b\b\b\b\b\b\b\b\b\b\b\b\b\b\b\b\b\b\b\b\b\b\b\b\b\b\b\b\b\b\b\b\b\b\b\b\b\b\b\b\b\b\b\b\b\b\b\b\b\b\b\b\b\b\b\b\b\b\b\b\b\b\b\b\b\b\b\b\b\b\b\b\b\b\b\b\b\b\b\b\b\b\b\b\b\b\b\b\b\b\b\b\b\b\b\b\b\b\b\b\b\b\b\b\b\b\b\b\b\b\b\b\b\b\b\b\b\b\b\b\b\b\b\b\b\b\b\b\b\b\b\b\b\b\b\b\b\b\b\b\b\b\b\b\b\b\b\b\b\b\b\b\b\b\b\b\b\b\b\b\b\b\b\b\b\b\b\b\b\b\b\b\b\b\b\b\b\b\b\b\b\b\b\b\b\b\b\b\b\b\b\b\b\b\b\b\b\b\b\b\b\b\b\b\b\b\b\b\b\b\b\b\b\b\b\b\b\b\b\b\b\b\b\b\b\b\b\b\b\b\b\b\b\b\b\b\b\b\b\b\b\b\b\b\b\b\b\b\b\b\b\b\b\b\b\b\b\b\b\b\b\b\b\b\b\b\b\b\b\b\b\b\b\b\b\b\b\b\b\b\b\b\b\b\b\b\b\b\b\b\b\b\b\b\b\b\b\b\b\b\b\b\b\b\b\b\b\b\b\b\b\b\b\b\b\b\b\b\b\b\b\b\b\b\b\b\b\b\b\b\b\b\b\b\b\b\b\b\b\b\b\b\b\b\b\b\b\b\b\b\b\b\b\b\b\b\b\b\b\b\b\b\b\b\b\b\b\b\b\b\b\b\b\b\b\b\b\b\b\b\b\b\b\b\b\b\b\b\b\b\b\b\b\b\b\b\b\b\b\b\b\b\b\b\b\b\b\b\b\b\b\b\b\b\b\b\b\b\b\b\b\b\b\b\b\b\b\b\b\b\b\b\b\b\b\b\b\b\b\b\b\b\b\b\b\b\b\b\b\b\b\b\b\b\b\b\b\b\b\b\b\b\b\b\b\b\b\b\b\b\b\b\b\b\b\b\b\b\b\b\b\b\b\b\b\b\b\b\b\b\b\b\b\b\b\b\b\b\b\b\b\b\b\b\b\b\b\b\b\b\b\b\b\b\b\b\b\b\b\b\b\b\b\b\b\b\b\b\b\b\b\b\b\b\b\b\b\b\b\b\b\b\b\b\b\b\b\b\b\b\b\b\b\b\b\b\b\b\b\b\b\b\b\b\b\b\b\b\b\b\b\b\b\b\b\b\b\b\b\b\b\b\b\b\b\b\b\b\b\b\b\b\b\b\b\b\b\b\b\b\b\b\b\b\b\b\b\b\b\b\b\b\b\b\b\b\b\b\b\b\b\b\b\b\b\b\b\b\b\b\b\b\b\b\b\b\b\b\b\b\b\b\b\b\b\b\b\b\b\b\b\b\b\b\b\b\b\b\b\b\b\b\b\b\b\b\b\b\b\b\b\b\b\b\b\b\b\b\b\b\b\b\b\b\b\b\b\b\b\b\b\b\b\b\b\b\b\b\b\b\b\b\b\b\b\b\b\b\b\b\b\b\b\b\b\b\b\b\b\b\b\b\b\b\b\b\b\b\b\b\b\b\b\b\b\b\b\b\b\b\b\b\b\b\b\b\b\b\b\b\b\b\b\b\b\b\b\b\b\b\b\b\b\b\b\b\b\b\b\b\b\b\b\b\b\b\b\b\b\b\b\b\b\b\b\b\b\b\b\b\b\b\b\b\b\b\b\b\b\b\b\b\b\b\b\b\b\b\b\b\b\b\b\b\b\b\b\b\b\b\b\b\b\b\b\b\b\b\b\b\b\b\b\b\b\b\b\b\b\b\b\b\b\b\b\b\b\b\b\b\b\b\b\b\b\b\b\b\b\b\b\b\b\b\b\b\b\b\b\b\b\b\b\b\b\b\b\b\b\b\b\b\b\b\b\b\b\b\b\b\b\b\b\b\b\b\b\b\b\b\b\b\b\b\b\b\b\b\b\b\b\b\b\b\b\b\b\b\b\b\b\b\b\b\b\b\b\b\b\b\b\b\b\b\b\b\b\b\b\b\b\b\b\b\b\b\b\b\b\b\b\b\b\b\b\b\b\b\b\b\b\b\b\b\b\b\b\b\b\b\b\b\b\b\b\b\b\b\b\b\b\b\b\b\b\b\b\b\b\b\b\b\b\b\b\b\b\b\b\b\b\b\b\b\b\b\b\b\b\b\b\b\b\b\b\b\b\b\b\b\b\b\b\b\b\b\b\b\b\b\b\b\b\b\b\b\b\b\b\b\b\b\b\b\b\b\b\b\b\b\b\b\b\b\b\b\b\b\b\b\b\b\b\b\b\b\b\b\b\b\b\b\b\b\b\b\b\b\b\b\b\b\b\b\b\b\b\b\b\b\b\b\b\b\b\b\b\b\b\b\b\b\b\b\b\b\b\b\b\b\b\b\b\b\b\b\b\b\b\b\b\b\b\b\b\b\b\b\b\b\b\b\b\b\b\b\b\b\b\b\b\b\b\b\b\b\b\b\b\b\b\b\b\b\b\b\b\b\b\b\b\b\b\b\b\b\b\b\b\b\b\b\b\b\b\b\b\b\b\b\b\b\b\b\b\b\b\b\b\b\b\b\b\b\b\b\b\b\b\b\b\b\b\b\b\b\b\b\b\b\b\b\b\b\b\b\b\b\b\b\b\b\b\b\b\b\b\b\b\b\b\b\b\b\b\b\b\b\b\b\b\b\b\b\b\b\b\b\b\b\b\b\b\b\b\b\b\b\b\b\b\b\b\b\b\b\b\b\b\b\b\b\b\b\b\b\b\b\b\b\b\b\b\b\b\b\b\b\b\b\b\b\b\b\b\b\b\b\b\b\b\b\b\b\b\b\b\b\b\b\b\b\b\b\b\b\b\b\b\b\b\b\b\b\b\b\b\b\b\b\b\b\b\b\b\b\b\b\b\b\b\b\b\b\b\b\b\b\b\b\b\b\b\b\b\b\b\b\b\b\b\b\b\b\b\b\b\b\b\b\b\b\b\b\b\b\b\b\b\b\b\b\b\b\b\b\b\b\b\b\b\b\b\b\b\b\b\b\b\b\b\b\b\b\b\b\b\b\b\b\b\b\b\b\b\b\b\b\b\b\b\b\b\b\b\b\b\b\b\b\b\b\b\b\b\b\b\b\b\b\b\b\b\b\b\b\b\b\b\b\b\b\b\b\b\b\b\b\b\b\b\b\b\b\b\b\b\b\b\b\b\b\b\b\b\b\b\b\b\b\b\b\b\b\b\b\b\b\b\b\b\b\b\b\b\b\b\b\b\b\b\b\b\b\b\b\b\b\b\b\b\b\b\b\b\b\b\b\b\b\b\b\b\b\b\b\b\b\b\b\b\b\b\b\b\b\b\b\b\b\b\b\b\b\b\b\b\b\b\b\b\b\b\b\b\b\b\b\b\b\b\b\b\b\b\b\b\b\b\b\b\b\b\b\b\b\b\b\b\b\b\b\b\b\b\b\b\b\b\b\b\b\b\b\b\b\b\b\b\b\b\b\b\b\b\b\b\b\b\b\b\b\b\b\b\b\b\b\b\b\b\b\b\b\b\b\b\b\b\b\b\b\b\b\b\b\b\b\b\b\b\b\b\b\b\b\b\b\b\b\b\b\b\b\b\b\b\b\b\b\b\b\b\b\b\b\b\b\b\b\b\b\b\b\b\b\b\b\b\b\b\b\b\b\b\b\b\b\b\b\b\b\b\b\b\b\b\b\b\b\b\b\b\b\b\b\b\b\b\b\b\b\b\b\b\b\b\b\b\b\b\b\b\b\b\b\b\b\b\b\b\b\b\b\b\b\b\b\b\b\b\b\b\b\b\b\b\b\b\b\b\b\b\b\b\b\b\b\b\b\b\b\b\b\b\b\b\b\b\b\b\b\b\b\b\b\b\b\b\b\b\b\b\b\b\b\b\b\b\b\b\b\b\b\b\b\b\b\b\b\b\b\b\b\b\b\b\b\b\b\b\b\b\b\b\b\b\b\b\b\b\b\b\b\b\b\b\b\b\b\b\b\b\b\b\b\b\b\b\b\b\b\b\b\b\b\b\b\b\b\b\b\b\b\b\b\b\b\b\b\b\b\b\b\b\b\b\b\b\b\b\b\b\b\b\b\b\b\b\b\b\b\b\b\b\b\b\b\b\b\b\b\b\b\b\b\b\b\b\b\b\b\b\b\b\b\b\b\b\b\b\b\b\b\b\b\b\b\b\b\b\b\b\b\b\b\b\b\b\b\b\b\b\b\b\b\b\b\b\b\b\b\b\b\b\b\b\b\b\b\b\b\b\b\b\b\b\b\b\b\b\b\b\b\b\b\b\b\b\b\b\b\b\b\b\b\b\b\b\b\b\b\b\b\b\b\b\b\b\b\b\b\b\b\b\b\b\b\b\b\b\b\b\b\b\b\b\b\b\b\b\b\b\b\b\b\b\b\b\b\b\b\b\b\b\b\b\b\b\b\b\b\b\b\b\b\b\b\b\b\b\b\b\b\b\b\b\b\b\b\b\b\b\b\b\b\b\b\b\b\b\b\b\b\b\b\b\b\b\b\b\b\b\b\b\b\b\b\b\b\b\b\b\b\b\b\b\b\b\b\b\b\b\b\b\b\b\b\b\b\b\b\b\b\b\b\b\b\b\b\b\b\b\b\b\b\b\b\b\b\b\b\b\b\b\b\b\b\b\b\b\b\b\b\b\b\b\b\b\b\b\b\b\b\b\b\b\b\b\b\b\b\b\b\b\b\b\b\b\b\b\b\b\b\b\b\b\b\b\b\b\b\b\b\b\b\b\b\b\b\b\b\b\b\b\b\b\b\b\b\b\b\b\b\b\b\b\b\b\b\b\b\b\b\b\b\b\b\b\b\b\b\b\b\b\b\b\b\b\b\b\b\b\b\b\b\b\b\b\b\b\b\b\b\b\b\b\b\b\b\b\b\b\b\b\b\b\b\b\b\b\b\b\b\b\b\b\b\b\b\b\b\b\b\b\b\b\b\b\b\b\b\b\b\b\b\b\b\b\b\b\b\b\b\b\b\b\b\b\b\b\b\b\b\b\b\b\b\b\b\b\b\b\b\b\b\b\b\b\b\b\b\b\b\b\b\b\b\b\b\b\b\b\b\b\b\b\b\b\b\b\b\b\b\b\b\b\b\b\b\b\b\b\b\b\b\b\b\b\b\b\b\b\b\b\b\b\b\b\b\b\b\b\b\b\b\b\b\b\b\b\b\b\b\b\b\b\b\b\b\b\b\b\b\b\b\b\b\b\b\b\b\b\b\b\b\b\b\b\b\b\b\b\b\b\b\b\b\b\b\b\b\b\b\b\b\b\b\b\b\b\b\b\b\b\b\b\b\b\b\b\b\b\b\b\b\b\b\b\b\b\b\b\b\b\b\b\b\b\b\b\b\b\b\b\b\b\b\b\b\b\b\b\b\b\b\b\b\b\b\b\b\b\b\b\b\b\b\b\b\b\b\b\b\b\b\b\b\b\b\b\b\b\b\b\b\b\b\b\b\b\b\b\b\b\b\b\b\b\b\b\b\b\b\b\b\b\b\b\b\b\b\b\b\b\b\b\b\b\b\b\b\b\b\b\b\b\b\b\b\b\b\b\b\b\b\b\b\b\b\b\b\b\b\b\b\b\b\b\b\b\b\b\b\b\b\b\b\b\b\b\b\b\b\b\b\b\b\b\b\b\b\b\b\b\b\b\b\b\b\b\b\b\b\b\b\b\b\b\b\b\b\b\b\b\b\b\b\b\b\b\b\b\b\b\b\b\b\b\b\b\b\b\b\b\b\b\b\b\b\b\b\b\b\b\b\b\b\b\b\b\b\b\b\b\b\b\b\b\b\b\b\b\b\b\b\b\b\b\b\b\b\b\b\b\b\b\b\b\b\b\b\b\b\b\b\b\b\b\b\b\b\b\b\b\b\b\b\b\b\b\b\b\b\b\b\b\b\b\b\b\b\b\b\b\b\b\b\b\b\b\b\b\b\b\b\b\b\b\b\b\b\b\b\b\b\b\b\b\b\b\b\b\b\b\b\b\b\b\b\b\b\b\b\b\b\b\b\b\b\b\b\b\b\b\b\b\b\b\b\b\b\b\b\b\b\b\b\b\b\b\b\b\b\b\b\b\b\b\b\b\b\b\b\b\b\b\b\b\b\b\b\b\b\b\b\b\b\b\b\b\b\b\b\b\b\b\b\b\b\b\b\b\b\b\b\b\b\b\b\b\b\b\b\b\b\b\b\b\b\b\b\b\b\b\b\b\b\b\b\b\b\b\b\b\b\b\b\b\b\b\b\b\b\b\b\b\b\b\b\b\b\b\b\b\b\b\b\b\b\b\b\b\b\b\b\b\b\b\b\b\b\b\b\b\b\b\b\b\b\b\b\b\b\b\b\b\b\b\b\b\b\b\b\b\b\b\b\b\b\b\b\b\b\b\b\b\b\b\b\b\b\b\b\b\b\b\b\b\b\b\b\b\b\b\b\b\b\b\b\b\b\b\b\b\b\b\b\b\b\b\b\b\b\b\b\b\b\b\b\b\b\b\b\b\b\b\b\b\b\b\b\b\b\b\b\b\b\b\b\b\b\b\b\b\b\b\b\b\b\b\b\b\b\b\b\b\b\b\b\b\b\b\b\b\b\b\b\b\b\b\b\b\b\b\b\b\b\b\b\b\b\b\b\b\b\b\b\b\b\b\b\b\b\b\b\b\b\b\b\b\b\b\b\b\b\b\b\b\b\b\b\b\b\b\b\b\b\b\b\b\b\b\b\b\b\b\b\b\b\b\b\b\b\b\b\b\b\b\b\b\b\b\b\b\b\b\b\b\b\b\b\b\b\b\b\b\b\b\b\b\b\b\b\b\b\b\b\b\b\b\b\b\b\b\b\b\b\b\b\b\b\b\b\b\b\b\b\b\b\b\b\b\b\b\b\b\b\b\b\b\b\b\b\b\b\b\b\b\b\b\b\b\b\b\b\b\b\b\b\b\b\b\b\b\b\b\b\b\b\b\b\b\b\b\b\b\b\b\b\b\b\b\b\b\b\b\b\b\b\b\b\b\b\b\b\b\b\b\b\b\b\b\b\b\b\b\b\b\b\b\b\b\b\b\b\b\b\b\b\b\b\b\b\b\b\b\b\b\b\b\b\b\b\b\b\b\b\b\b\b\b\b\b\b\b\b\b\b\b\b\b\b\b\b\b\b\b\b\b\b\b\b\b\b\b\b\b\b\b\b\b\b\b\b\b\b\b\b\b\b\b\b\b\b\b\b\b\b\b\b\b\b\b\b\b\b\b\b\b\b\b\b\b\b\b\b\b\b\b\b\b\b\b\b\b\b\b\b\b\b\b\b\b\b\b\b\b\b\b\b\b\b\b\b\b\b\b\b\b\b\b\b\b\b\b\b\b\b\b\b\b\b\b\b\b\b\b\b\b\b\b\b\b\b\b\b\b\b\b\b\b\b\b\b\b\b\b\b\b\b\b\b\b\b\b\b\b\b\b\b\b\b\b\b\b\b\b\b\b\b\b\b\b\b\b\b\b\b\b\b\b\b\b\b\b\b\b\b\b\b\b\b\b\b\b\b\b\b\b\b\b\b\b\b\b\b\b\b\b\b\b\b\b\b\b\b\b\b\b\b\b\b\b\b\b\b\b\b\b\b\b\b\b\b\b\b\b\b\b\b\b\b\b\b\b\b\b\b\b\b\b\b\b\b\b\b\b\b\b\b\b\b\b\b\b\b\b\b\b\b\b\b\b\b\b\b\b\b\b\b\b\b\b\b\b\b\b\b\b\b\b\b\b\b\b\b\b\b\b\b\b\b\b\b\b\b\b\b\b\b\b\b\b\b\b\b\b\b\b\b\b\b\b\b\b\b\b\b\b\b\b\b\b\b\b\b\b\b\b\b\b\b\b\b\b\b\b\b\b\b\b\b\b\b\b\b\b\b\b\b\b\b\b\b\b\b\b\b\b\b\b\b\b\b\b\b\b\b\b\b\b\b\b\b\b\b\b\b\b\b\b\b\b\b\b\b\b\b\b\b\b\b\b\b\b\b\b\b\b\b\b\b\b\b\b\b\b\b\b\b\b\b\b\b\b\b\b\b\b\b\b\b\b\b\b\b\b\b\b\b\b\b\b\b\b\b\b\b\b\b\b\b\b\b\b\b\b\b\b\b\b\b\b\b\b\b\b\b\b\b\b\b\b\b\b\b\b\b\b\b\b\b\b\b\b\b\b\b\b\b\b\b\b\b\b\b\b\b\b\b\b\b\b\b\b\b\b\b\b\b\b\b\b\b\b\b\b\b\b\b\b\b\b\b\b\b\b\b\b\b\b\b\b\b\b\b\b\b\b\b\b\b\b\b\b\b\b\b\b\b\b\b\b\b\b\b\b\b\b\b\b\b\b\b\b\b\b\b\b\b\b\b\b\b\b\b\b\b\b\b\b\b\b\b\b\b\b\b\b\b\b\b\b\b\b\b\b\b\b\b\b\b\b\b\b\b\b\b\b\b\b\b\b\b\b\b\b\b\b\b\b\b\b\b\b\b\b\b\b\b\b\b\b\b\b\b\b\b\b\b\b\b\b\b\b\b\b\b\b\b\b\b\b\b\b\b\b\b\b\b\b\b\b\b\b\b\b\b\b\b\b\b\b\b\b\b\b\b\b\b\b\b\b\b\b\b\b\b\b\b\b\b\b\b\b\b\b\b\b\b\b\b\b\b\b\b\b\b\b\b\b\b\b\b\b\b\b\b\b\b\b\b\b\b\b\b\b\b\b\b\b\b\b\b\b\b\b\b\b\b\b\b\b\b\b\b\b\b\b\b\b\b\b\b\b\b\b\b\b\b\b\b\b\b\b\b\b\b\b\b\b\b\b\b\b\b\b\b\b\b\b\b\b\b\b\b\b\b\b\b\b\b\b\b\b\b\b\b\b\b\b\b\b\b\b\b\b\b\b\b\b\b\b\b\b\b\b\b\b\b\b\b\b\b\b\b\b\b\b\b\b\b\b\b\b\b\b\b\b\b\b\b\b\b\b\b\b\b\b\b\b\b\b\b\b\b\b\b\b\b\b\b\b\b\b\b\b\b\b\b\b\b\b\b\b\b\b\b\b\b\b\b\b\b\b\b\b\b\b\b\b\b\b\b\b\b\b\b\b\b\b\b\b\b\b\b\b\b\b\b\b\b\b\b\b\b\b\b\b\b\b\b\b\b\b\b\b\b\b\b\b\b\b\b\b\b\b\b\b\b\b\b\b\b\b\b\b\b\b\b\b\b\b\b\b\b\b\b\b\b\b\b\b\b\b\b\b\b\b\b\b\b\b\b\b\b\b\b\b\b\b\b\b\b\b\b\b\b\b\b\b\b\b\b\b\b\b\b\b\b\b\b\b\b\b\b\b\b\b\b\b\b\b\b\b\b\b\b\b\b\b\b\b\b\b\b\b\b\b\b\b\b\b\b\b\b\b\b\b\b\b\b\b\b\b\b\b\b\b\b\b\b\b\b\b\b\b\b\b\b\b\b\b\b\b\b\b\b\b\b\b\b\b\b\b\b\b\b\b\b\b\b\b\b\b\b\b\b\b\b\b\b\b\b\b\b\b\b\b\b\b\b\b\b\b\b\b\b\b\b\b\b\b\b\b\b\b\b\b\b\b\b\b\b\b\b\b\b\b\b\b\b\b\b\b\b\b\b\b\b\b\b\b\b\b\b\b\b\b\b\b\b\b\b\b\b\b\b\b\b\b\b\b\b\b\b\b\b\b\b\b\b\b\b\b\b\b\b\b\b\b\b\b\b\b\b\b\b\b\b\b\b\b\b\b\b\b\b\b\b\b\b\b\b\b\b\b\b\b\b\b\b\b\b\b\b\b\b\b\b\b\b\b\b\b\b\b\b\b\b\b\b\b\b\b\b\b\b\b\b\b\b\b\b\b\b\b\b\b\b\b\b\b\b\b\b\b\b\b\b\b\b\b\b\b\b\b\b\b\b\b\b\b\b\b\b\b\b\b\b\b\b\b\b\b\b\b\b\b\b\b\b\b\b\b\b\b\b\b\b\b\b\b\b\b\b\b\b\b\b\b\b\b\b\b\b\b\b\b\b\b\b\b\b\b\b\b\b\b\b\b\b\b\b\b\b\b\b\b\b\b\b\b\b\b\b\b\b\b\b\b\b\b\b\b\b\b\b\b\b\b\b\b\b\b\b\b\b\b\b\b\b\b\b\b\b\b\b\b\b\b\b\b\b\b\b\b\b\b\b\b\b\b\b\b\b\b\b\b\b\b\b\b\b\b\b\b\b\b\b\b\b\b\b\b\b\b\b\b\b\b\b\b\b\b\b\b\b\b\b\b\b\b\b\b\b\b\b\b\b\b\b\b\b\b\b\b\b\b\b\b\b\b\b\b\b\b\b\b\b\b\b\b\b\b\b\b\b\b\b\b\b\b\b\b\b\b\b\b\b\b\b\b\b\b\b\b\b\b\b\b\b\b\b\b\b\b\b\b\b\b\n",
      "Epoch 2/1000\n",
      " 230/1000 [=====>........................] - ETA: 75s - loss: 15.8731\b\b\b\b\b\b\b\b\b\b\b\b\b\b\b\b\b\b\b\b\b\b\b\b\b\b\b\b\b\b\b\b\b\b\b\b\b\b\b\b\b\b\b\b\b\b\b\b\b\b\b\b\b\b\b\b\b\b\b\b\b\b\b\b\b\b\b\b\b\b\b\b\b\b\b\b\b\b\b\b\b\b\b\b\b\b\b\b\b\b\b\b\b\b\b\b\b\b\b\b\b\b\b\b\b\b\b\b\b\b\b\b\b\b\b\b\b\b\b\b\b\b\b\b\b\b\b\b\b\b\b\b\b\b\b\b\b\b\b\b\b\b\b\b\b\b\b\b\b\b\b\b\b\b\b\b\b\b\b\b\b\b\b\b\b\b\b\b\b\b\b\b\b\b\b\b\b\b\b\b\b\b\b\b\b\b\b\b\b\b\b\b\b\b\b\b\b\b\b\b\b\b\b\b\b\b\b\b\b\b\b\b\b\b\b\b\b\b\b\b\b\b\b\b\b\b\b\b\b\b\b\b\b\b\b\b\b\b\b\b\b\b\b\b\b\b\b\b\b\b\b\b\b\b\b\b\b\b\b\b\b\b\b\b\b\b\b\b\b\b\b\b\b\b\b\b\b\b\b\b\b\b\b\b\b\b\b\b\b\b\b\b\b\b\b\b\b\b\b\b\b\b\b\b\b\b\b\b\b\b\b\b\b\b\b\b\b\b\b\b\b\b\b\b\b\b\b\b\b\b\b\b\b\b\b\b\b\b\b\b\b\b\b\b\b\b\b\b\b\b\b\b\b\b\b\b\b\b\b\b\b\b\b\b\b\b\b\b\b\b\b\b\b\b\b\b\b\b\b\b\b\b\b\b\b\b\b\b\b\b\b\b\b\b\b\b\b\b\b\b\b\b\b\b\b\b\b\b\b\b\b\b\b\b\b\b\b\b\b\b\b\b\b\b\b\b\b\b\b\b\b\b\b\b\b\b\b\b\b\b\b\b\b\b\b\b\b\b\b\b\b\b\b\b\b\b\b\b\b\b\b\b\b\b\b\b\b\b\b\b\b\b\b\b\b\b\b\b\b\b\b\b\b\b\b\b\b\b\b\b\b\b\b\b\b\b\b\b\b\b\b\b\b\b\b\b\b\b\b\b\b\b\b\b\b\b\b\b\b\b\b\b\b\b\b\b\b\b\b\b\b\b\b\b\b\b\b\b\b\b\b\b\b\b\b\b\b\b\b\b\b\b\b\b\b\b\b\b\b\b\b\b\b\b\b\b\b\b\b\b\b\b\b\b\b\b\b\b\b\b\b\b\b\b\b\b\b\b\b\b\b\b\b\b\b\b\b\b\b\b\b\b\b\b\b\b\b\b\b\b\b\b\b\b\b\b\b\b\b\b\b\b\b\b\b\b\b\b\b\b\b\b\b\b\b\b\b\b\b\b\b\b\b\b\b\b\b\b\b\b\b\b\b\b\b\b\b\b\b\b\b\b\b\b\b\b\b\b\b\b\b\b\b\b\b\b\b\b\b\b\b\b\b\b\b\b\b\b\b\b\b\b\b\b\b\b\b\b\b\b\b\b\b\b\b\b\b\b\b\b\b\b\b\b\b\b\b\b\b\b\b\b\b\b\b\b\b\b\b\b\b\b\b\b\b\b\b\b\b\b\b\b\b\b\b\b\b\b\b\b\b\b\b\b\b\b\b\b\b\b\b\b\b\b\b\b\b\b\b\b\b\b\b\b\b\b\b\b\b\b\b\b\b\b\b\b\b\b\b\b\b\b\b\b\b\b\b\b\b\b\b\b\b\b\b\b\b\b\b\b\b\b\b\b\b\b\b\b\b\b\b\b\b\b\b\b\b\b\b\b\b\b\b\b\b\b\b\b\b\b\b\b\b\b\b\b\b\b\b\b\b\b\b\b\b\b\b\b\b\b\b\b\b\b\b\b\b\b\b\b\b\b\b\b\b\b\b\b\b\b\b\b\b\b\b\b\b\b\b\b\b\b\b\b\b\b\b\b\b\b\b\b\b\b\b\b\b\b\b\b\b\b\b\b\b\b\b\b\b\b\b\b\b\b\b\b\b\b\b\b\b\b\b\b\b\b\b\b\b\b\b\b\b\b\b\b\b\b\b\b\b\b\b\b\b\b\b\b\b\b\b\b\b\b\b\b\b\b\b\b\b\b\b\b\b\b\b\b\b\b\b\b\b\b\b\b\b\b\b\b\b\b\b\b\b\b\b\b\b\b\b\b\b\b\b\b\b\b\b\b\b\b\b\b\b\b\b\b\b\b\b\b\b\b\b\b\b\b\b\b\b\b\b\b\b\b\b\b\b\b\b\b\b\b\b\b\b\b\b\b\b\b\b\b\b\b\b\b\b\b\b\b\b\b\b\b\b\b\b\b\b\b\b\b\b\b\b\b\b\b\b\b\b\b\b\b\b\b\b\b\b\b\b\b\b\b\b\b\b\b\b\b\b\b\b\b\b\b\b\b\b\b\b\b\b\b\b\b\b\b\b\b\b\b\b\b\b\b\b\b\b\b\b\b\b\b\b\b\b\b\b\b\b\b\b\b\b\b\b\b\b\b\b\b\b\b\b\b\b\b\b\b\b\b\b\b\b\b\b\b\b\b\b\b\b\b\b\b\b\b\b\b\b\b\b\b\b\b\b\b\b\b\b\b\b\b\b\b\b\b\b\b\b\b\b\b\b\b\b\b\b\b\b\b\b\b\b\b\b\b\b\b\b\b\b\b\b\b\b\b\b\b\b\b\b\b\b\b\b\b\b\b\b\b\b\b\b\b\b\b\b\b\b\b\b\b\b\b\b\b\b\b\b\b\b\b\b\b\b\b\b\b\b\b\b\b\b\b\b\b\b\b\b\b\b\b\b\b\b\b\b\b\b\b\b\b\b\b\b\b\b\b\b\b\b\b\b\b\b\b\b\b\b\b\b\b\b\b\b\b\b\b\b\b\b\b\b\b\b\b\b\b\b\b\b\b\b\b\b\b\b\b\b\b\b\b\b\b\b\b\b\b\b\b\b\b\b\b\b\b\b\b\b\b\b\b\b\b\b\b\b\b\b\b\b\b\b\b\b\b\b\b\b\b\b\b\b\b\b\b\b\b\b\b\b\b\b\b\b\b\b\b\b\b\b\b\b\b\b\b\b\b\b\b\b\b\b\b\b\b\b\b\b\b\b\b\b\b\b\b\b\b\b\b\b\b\b\b\b\b\b\b\b\b\b\b\b\b\b\b\b\b\b\b\b\b\b\b\b\b\b\b\b\b\b\b\b\b\b\b\b\b\b\b\b\b\b\b\b\b\b\b\b\b\b\b\b\b\b\b\b\b\b\b\b\b\b\b\b\b\b\b\b\b\b\b\b\b\b\b\b\b\b\b\b\b\b\b"
     ]
    }
   ],
   "source": [
    "logging.basicConfig(level=logging.DEBUG)\n",
    "logging.info(\"Starting...\")\n",
    "\n",
    "model = VGG16(BtoKstG_datagen.output())\n",
    "training_output = model.fit_generator(BtoKstG_datagen, samples_per_epoch = 1000, nb_epoch=1000)"
   ]
  },
  {
   "cell_type": "code",
   "execution_count": null,
   "metadata": {
    "collapsed": false
   },
   "outputs": [],
   "source": [
    "print dir(training_output)"
   ]
  },
  {
   "cell_type": "markdown",
   "metadata": {},
   "source": [
    "## Training Metrics\n",
    "\n",
    "Given the training output, you can plot some of the metrics inline. For instace, here is the loss history plotted "
   ]
  },
  {
   "cell_type": "code",
   "execution_count": null,
   "metadata": {
    "collapsed": false
   },
   "outputs": [],
   "source": [
    "plt.figure()\n",
    "plt.plot(training_output.epoch, training_output.history['loss'])"
   ]
  },
  {
   "cell_type": "code",
   "execution_count": null,
   "metadata": {
    "collapsed": false
   },
   "outputs": [],
   "source": [
    "print training_output.params"
   ]
  },
  {
   "cell_type": "code",
   "execution_count": null,
   "metadata": {
    "collapsed": false
   },
   "outputs": [],
   "source": [
    "print BtoKstG_datagen.next()"
   ]
  },
  {
   "cell_type": "code",
   "execution_count": null,
   "metadata": {
    "collapsed": false
   },
   "outputs": [],
   "source": [
    "x,y = BtoKstG_datagen.next()"
   ]
  },
  {
   "cell_type": "code",
   "execution_count": null,
   "metadata": {
    "collapsed": false
   },
   "outputs": [],
   "source": [
    "print y"
   ]
  },
  {
   "cell_type": "code",
   "execution_count": null,
   "metadata": {
    "collapsed": false
   },
   "outputs": [],
   "source": [
    "print x"
   ]
  },
  {
   "cell_type": "code",
   "execution_count": null,
   "metadata": {
    "collapsed": false
   },
   "outputs": [],
   "source": [
    "print x.shape"
   ]
  },
  {
   "cell_type": "code",
   "execution_count": null,
   "metadata": {
    "collapsed": true
   },
   "outputs": [],
   "source": []
  }
 ],
 "metadata": {
  "kernelspec": {
   "display_name": "Python 2",
   "language": "python",
   "name": "python2"
  },
  "language_info": {
   "codemirror_mode": {
    "name": "ipython",
    "version": 2
   },
   "file_extension": ".py",
   "mimetype": "text/x-python",
   "name": "python",
   "nbconvert_exporter": "python",
   "pygments_lexer": "ipython2",
   "version": "2.7.10"
  }
 },
 "nbformat": 4,
 "nbformat_minor": 2
}
